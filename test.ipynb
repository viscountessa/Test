{
 "cells": [
  {
   "cell_type": "code",
   "execution_count": 41,
   "metadata": {},
   "outputs": [],
   "source": [
    "import numpy as np"
   ]
  },
  {
   "cell_type": "markdown",
   "metadata": {},
   "source": [
    "### Дано"
   ]
  },
  {
   "cell_type": "markdown",
   "metadata": {},
   "source": [
    "Массив длины N:"
   ]
  },
  {
   "cell_type": "code",
   "execution_count": 42,
   "metadata": {},
   "outputs": [],
   "source": [
    "N = [\n",
    "  {\n",
    "    \"data\": [\n",
    "      1352886.25833333\n",
    "    ],\n",
    "    \"timestamp\": \"2021-06-27T12:42:53.068000+05:00\"\n",
    "  },\n",
    "  {\n",
    "    \"data\": [\n",
    "      1351570.66145833\n",
    "    ],\n",
    "    \"timestamp\": \"2021-06-27T12:43:53.054000+05:00\"\n",
    "  },\n",
    "  {\n",
    "    \"data\": [\n",
    "      1352886.25844444\n",
    "    ],\n",
    "    \"timestamp\": \"2021-06-27T12:44:53.068000+05:00\"\n",
    "  },\n",
    "  {\n",
    "    \"data\": [\n",
    "      1355555.258555555\n",
    "    ],\n",
    "    \"timestamp\": \"2021-06-27T12:45:53.068000+05:00\"\n",
    "  },\n",
    "  {\n",
    "    \"data\": [\n",
    "      1356666.25866666\n",
    "    ],\n",
    "    \"timestamp\": \"2021-06-27T12:46:53.068000+05:00\"\n",
    "  },\n",
    "  {\n",
    "    \"data\": [\n",
    "      1357777.258777777\n",
    "    ],\n",
    "    \"timestamp\": \"2021-06-27T12:47:53.068000+05:00\"\n",
    "  },\n",
    "    {\n",
    "    \"data\": [\n",
    "      1352886.25833333\n",
    "    ],\n",
    "    \"timestamp\": \"2021-06-27T12:42:53.068000+05:00\"\n",
    "  },\n",
    "  {\n",
    "    \"data\": [\n",
    "      1351570.66145833\n",
    "    ],\n",
    "    \"timestamp\": \"2021-06-27T12:43:53.054000+05:00\"\n",
    "  },\n",
    "  {\n",
    "    \"data\": [\n",
    "      1352886.25844444\n",
    "    ],\n",
    "    \"timestamp\": \"2021-06-27T12:44:53.068000+05:00\"\n",
    "  },\n",
    "  {\n",
    "    \"data\": [\n",
    "      1355555.258555555\n",
    "    ],\n",
    "    \"timestamp\": \"2021-06-27T12:45:53.068000+05:00\"\n",
    "  },\n",
    "  {\n",
    "    \"data\": [\n",
    "      1356666.25866666\n",
    "    ],\n",
    "    \"timestamp\": \"2021-06-27T12:46:53.068000+05:00\"\n",
    "  },\n",
    "  {\n",
    "    \"data\": [\n",
    "      1357777.258777777\n",
    "    ],\n",
    "    \"timestamp\": \"2021-06-27T12:47:53.068000+05:00\"\n",
    "  }\n",
    "]"
   ]
  },
  {
   "cell_type": "markdown",
   "metadata": {},
   "source": [
    "M - максимальная длина выходных данных."
   ]
  },
  {
   "cell_type": "markdown",
   "metadata": {},
   "source": [
    "### Задание"
   ]
  },
  {
   "cell_type": "markdown",
   "metadata": {},
   "source": [
    "Написать функцию, осуществляющую прореживание данных с помощью окна длины k. В качестве значения результирующей точки выбирается среднее по текущим k точкам. Длина окна k должна выбираться таким образом чтобы длина результата не превышала заданного значения M."
   ]
  },
  {
   "cell_type": "code",
   "execution_count": 45,
   "metadata": {},
   "outputs": [
    {
     "name": "stdout",
     "output_type": "stream",
     "text": [
      "3\n",
      "10\n",
      "3\n"
     ]
    }
   ],
   "source": [
    "M, start = 4, 0\n",
    "k = len(N) // M\n",
    "finish = len(N) - k + 1\n",
    "stop = start + k\n",
    "flat_list = []\n",
    "print(k)\n",
    "print(finish)\n",
    "print(stop)"
   ]
  },
  {
   "cell_type": "code",
   "execution_count": 46,
   "metadata": {},
   "outputs": [
    {
     "name": "stdout",
     "output_type": "stream",
     "text": [
      "[1352447.7260787, 1356666.2586666641, 1352447.7260787, 1356666.2586666641]\n"
     ]
    }
   ],
   "source": [
    "while start <= finish:\n",
    "    window = N[start:stop]\n",
    "    rez = []\n",
    "    for i in window:\n",
    "        rez.append(i.get('data'))\n",
    "    flat_rez = [item for sublist in rez for item in sublist]\n",
    "    flat_rez = np.array(flat_rez)\n",
    "    flat_list.append(flat_rez.mean())\n",
    "    start += k\n",
    "    stop += k\n",
    "print(flat_list)"
   ]
  }
 ],
 "metadata": {
  "kernelspec": {
   "display_name": "Python 3",
   "language": "python",
   "name": "python3"
  },
  "language_info": {
   "codemirror_mode": {
    "name": "ipython",
    "version": 3
   },
   "file_extension": ".py",
   "mimetype": "text/x-python",
   "name": "python",
   "nbconvert_exporter": "python",
   "pygments_lexer": "ipython3",
   "version": "3.8.3"
  }
 },
 "nbformat": 4,
 "nbformat_minor": 4
}
